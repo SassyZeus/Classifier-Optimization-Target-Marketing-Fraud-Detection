{
  "nbformat": 4,
  "nbformat_minor": 0,
  "metadata": {
    "colab": {
      "provenance": []
    },
    "kernelspec": {
      "name": "python3",
      "display_name": "Python 3"
    },
    "language_info": {
      "name": "python"
    }
  },
  "cells": [
    {
      "cell_type": "code",
      "execution_count": null,
      "metadata": {
        "colab": {
          "base_uri": "https://localhost:8080/"
        },
        "id": "YChB_63JXAYZ",
        "outputId": "57f85773-af62-4cc2-f2d9-b47978259d02"
      },
      "outputs": [
        {
          "output_type": "stream",
          "name": "stdout",
          "text": [
            "Mounted at /gdrive\n",
            "/gdrive\n"
          ]
        }
      ],
      "source": [
        "import pandas as pd\n",
        "from sklearn.preprocessing import label_binarize\n",
        "import numpy as np\n",
        "from sklearn.model_selection import train_test_split\n",
        "from sklearn.ensemble import RandomForestClassifier\n",
        "from sklearn.tree import DecisionTreeClassifier\n",
        "from sklearn.model_selection import GridSearchCV\n",
        "from sklearn.model_selection import RandomizedSearchCV\n",
        "from sklearn.model_selection import cross_val_score\n",
        "from sklearn.metrics import classification_report, confusion_matrix\n",
        "from sklearn.ensemble import GradientBoostingClassifier\n",
        "from sklearn.preprocessing import OneHotEncoder\n",
        "from sklearn import metrics #Import scikit-learn metrics module for accuracy calculation\n",
        "\n",
        "import warnings\n",
        "warnings.filterwarnings(\"ignore\")\n",
        "#Please ignore the warnings with version change\n",
        "\n",
        "from google.colab import drive\n",
        "drive.mount('/gdrive')\n",
        "#Change current working directory to gdrive\n",
        "%cd /gdrive"
      ]
    },
    {
      "cell_type": "code",
      "source": [
        "trainfile = r'/gdrive/My Drive/Portugese Bank Data - TRAIN.csv'\n",
        "trainData = pd.read_csv(trainfile) #creates a dataframe\n",
        "testfile = r'/gdrive/My Drive/Portugese Bank Data - TEST.csv'\n",
        "testData = pd.read_csv(testfile)  #creates a dataframe\n",
        "\n",
        "\n",
        "print(trainData.shape)\n",
        "print(testData.shape)"
      ],
      "metadata": {
        "colab": {
          "base_uri": "https://localhost:8080/"
        },
        "id": "h2nZfsWfXjLC",
        "outputId": "34f5350e-5fcb-4260-d900-1e8c52ae7604"
      },
      "execution_count": null,
      "outputs": [
        {
          "output_type": "stream",
          "name": "stdout",
          "text": [
            "(4521, 17)\n",
            "(45211, 17)\n"
          ]
        }
      ]
    },
    {
      "cell_type": "code",
      "source": [
        "trainData.info()"
      ],
      "metadata": {
        "colab": {
          "base_uri": "https://localhost:8080/"
        },
        "id": "1uPPVLOCZQE4",
        "outputId": "f8c22b6b-42ac-438d-be56-c1cdf3d3dc41"
      },
      "execution_count": null,
      "outputs": [
        {
          "output_type": "stream",
          "name": "stdout",
          "text": [
            "<class 'pandas.core.frame.DataFrame'>\n",
            "RangeIndex: 4521 entries, 0 to 4520\n",
            "Data columns (total 17 columns):\n",
            " #   Column     Non-Null Count  Dtype \n",
            "---  ------     --------------  ----- \n",
            " 0   age        4521 non-null   int64 \n",
            " 1   job        4521 non-null   object\n",
            " 2   marital    4521 non-null   object\n",
            " 3   education  4521 non-null   object\n",
            " 4   default    4521 non-null   object\n",
            " 5   balance    4521 non-null   int64 \n",
            " 6   housing    4521 non-null   object\n",
            " 7   loan       4521 non-null   object\n",
            " 8   contact    4521 non-null   object\n",
            " 9   day        4521 non-null   int64 \n",
            " 10  month      4521 non-null   object\n",
            " 11  duration   4521 non-null   int64 \n",
            " 12  campaign   4521 non-null   int64 \n",
            " 13  pdays      4521 non-null   int64 \n",
            " 14  previous   4521 non-null   int64 \n",
            " 15  poutcome   4521 non-null   object\n",
            " 16  y          4521 non-null   object\n",
            "dtypes: int64(7), object(10)\n",
            "memory usage: 600.6+ KB\n"
          ]
        }
      ]
    },
    {
      "cell_type": "code",
      "source": [
        "#To get list of names of all Columns from a dataframe\n",
        "\n",
        "TrainCols = list(trainData.columns.values)\n",
        "TestCols = list(testData.columns.values)\n",
        "print(TrainCols)\n",
        "print(TestCols)"
      ],
      "metadata": {
        "colab": {
          "base_uri": "https://localhost:8080/"
        },
        "id": "dYQveqQWZP75",
        "outputId": "ee845874-177f-4036-e50a-74a690bd0d89"
      },
      "execution_count": null,
      "outputs": [
        {
          "output_type": "stream",
          "name": "stdout",
          "text": [
            "['age', 'job', 'marital', 'education', 'default', 'balance', 'housing', 'loan', 'contact', 'day', 'month', 'duration', 'campaign', 'pdays', 'previous', 'poutcome', 'y']\n",
            "['age', 'job', 'marital', 'education', 'default', 'balance', 'housing', 'loan', 'contact', 'day', 'month', 'duration', 'campaign', 'pdays', 'previous', 'poutcome', 'y']\n"
          ]
        }
      ]
    },
    {
      "cell_type": "code",
      "source": [
        "# Seperate Target column from Train Data\n",
        "Xtrain = trainData[TrainCols[0:len(TrainCols)-1]].copy()\n",
        "Ytrain = trainData[['y']].copy()\n",
        "print(\"Train Set shape:\")\n",
        "print(Xtrain.shape)\n",
        "print(Ytrain.shape)\n",
        "Xtest = testData[TestCols[0:len(TestCols)-1]].copy()\n",
        "Ytest = testData[['y']].copy()\n",
        "print(\"Test Set shape:\")\n",
        "print(Xtest.shape)\n",
        "print(Ytest.shape)"
      ],
      "metadata": {
        "colab": {
          "base_uri": "https://localhost:8080/"
        },
        "id": "1TCvZZYQTezA",
        "outputId": "354404a2-bf2b-486d-eafb-b17e0f874889"
      },
      "execution_count": null,
      "outputs": [
        {
          "output_type": "stream",
          "name": "stdout",
          "text": [
            "Train Set shape:\n",
            "(4521, 16)\n",
            "(4521, 1)\n",
            "Test Set shape:\n",
            "(45211, 16)\n",
            "(45211, 1)\n"
          ]
        }
      ]
    },
    {
      "cell_type": "code",
      "source": [
        "#List of Categorical Features\n",
        "categoricalFeatures = ['job', 'marital', 'education', 'default', 'housing', 'loan', 'contact', 'month','poutcome']\n"
      ],
      "metadata": {
        "id": "rWy6PwlZaF-E"
      },
      "execution_count": null,
      "outputs": []
    },
    {
      "cell_type": "code",
      "source": [
        "# OneHotEncoding on Train (fit & transform)\n",
        "# OneHotEncoding is to be done on Categorical variables.\n",
        "ohe = OneHotEncoder(handle_unknown='ignore',sparse=False)\n",
        "Xcat = pd.DataFrame(ohe.fit_transform(Xtrain[categoricalFeatures]),columns=ohe.get_feature_names_out(),index=Xtrain.index)\n",
        "Xtrain = pd.concat([Xtrain,Xcat],axis=1)\n",
        "Xtrain.drop(labels=categoricalFeatures,axis=1,inplace=True)\n",
        "Xtrain.sample(5)"
      ],
      "metadata": {
        "id": "8wcfV5csaKEF",
        "colab": {
          "base_uri": "https://localhost:8080/",
          "height": 235
        },
        "outputId": "8bd0d175-68de-4e97-dd6e-020f9189b1d3"
      },
      "execution_count": null,
      "outputs": [
        {
          "output_type": "execute_result",
          "data": {
            "text/plain": [
              "      age  balance  day  duration  campaign  pdays  previous  job_admin.  \\\n",
              "1006   40        5   18       219         3     -1         0         0.0   \n",
              "1011   42      198    8       314         1     -1         0         0.0   \n",
              "881    31      102   17       460         2    345         2         0.0   \n",
              "3872   29      209   28       487         7     -1         0         0.0   \n",
              "269    56     1007   29        88         6     -1         0         0.0   \n",
              "\n",
              "      job_blue-collar  job_entrepreneur  ...  month_jun  month_mar  month_may  \\\n",
              "1006              0.0               0.0  ...        0.0        0.0        0.0   \n",
              "1011              0.0               1.0  ...        0.0        0.0        1.0   \n",
              "881               0.0               0.0  ...        0.0        0.0        0.0   \n",
              "3872              0.0               0.0  ...        0.0        0.0        0.0   \n",
              "269               0.0               0.0  ...        0.0        0.0        0.0   \n",
              "\n",
              "      month_nov  month_oct  month_sep  poutcome_failure  poutcome_other  \\\n",
              "1006        1.0        0.0        0.0               0.0             0.0   \n",
              "1011        0.0        0.0        0.0               0.0             0.0   \n",
              "881         0.0        0.0        0.0               1.0             0.0   \n",
              "3872        0.0        0.0        0.0               0.0             0.0   \n",
              "269         0.0        0.0        0.0               0.0             0.0   \n",
              "\n",
              "      poutcome_success  poutcome_unknown  \n",
              "1006               0.0               1.0  \n",
              "1011               0.0               1.0  \n",
              "881                0.0               0.0  \n",
              "3872               0.0               1.0  \n",
              "269                0.0               1.0  \n",
              "\n",
              "[5 rows x 51 columns]"
            ],
            "text/html": [
              "\n",
              "  <div id=\"df-d758e9e4-0f23-43a9-b704-b35efc7743d2\" class=\"colab-df-container\">\n",
              "    <div>\n",
              "<style scoped>\n",
              "    .dataframe tbody tr th:only-of-type {\n",
              "        vertical-align: middle;\n",
              "    }\n",
              "\n",
              "    .dataframe tbody tr th {\n",
              "        vertical-align: top;\n",
              "    }\n",
              "\n",
              "    .dataframe thead th {\n",
              "        text-align: right;\n",
              "    }\n",
              "</style>\n",
              "<table border=\"1\" class=\"dataframe\">\n",
              "  <thead>\n",
              "    <tr style=\"text-align: right;\">\n",
              "      <th></th>\n",
              "      <th>age</th>\n",
              "      <th>balance</th>\n",
              "      <th>day</th>\n",
              "      <th>duration</th>\n",
              "      <th>campaign</th>\n",
              "      <th>pdays</th>\n",
              "      <th>previous</th>\n",
              "      <th>job_admin.</th>\n",
              "      <th>job_blue-collar</th>\n",
              "      <th>job_entrepreneur</th>\n",
              "      <th>...</th>\n",
              "      <th>month_jun</th>\n",
              "      <th>month_mar</th>\n",
              "      <th>month_may</th>\n",
              "      <th>month_nov</th>\n",
              "      <th>month_oct</th>\n",
              "      <th>month_sep</th>\n",
              "      <th>poutcome_failure</th>\n",
              "      <th>poutcome_other</th>\n",
              "      <th>poutcome_success</th>\n",
              "      <th>poutcome_unknown</th>\n",
              "    </tr>\n",
              "  </thead>\n",
              "  <tbody>\n",
              "    <tr>\n",
              "      <th>1006</th>\n",
              "      <td>40</td>\n",
              "      <td>5</td>\n",
              "      <td>18</td>\n",
              "      <td>219</td>\n",
              "      <td>3</td>\n",
              "      <td>-1</td>\n",
              "      <td>0</td>\n",
              "      <td>0.0</td>\n",
              "      <td>0.0</td>\n",
              "      <td>0.0</td>\n",
              "      <td>...</td>\n",
              "      <td>0.0</td>\n",
              "      <td>0.0</td>\n",
              "      <td>0.0</td>\n",
              "      <td>1.0</td>\n",
              "      <td>0.0</td>\n",
              "      <td>0.0</td>\n",
              "      <td>0.0</td>\n",
              "      <td>0.0</td>\n",
              "      <td>0.0</td>\n",
              "      <td>1.0</td>\n",
              "    </tr>\n",
              "    <tr>\n",
              "      <th>1011</th>\n",
              "      <td>42</td>\n",
              "      <td>198</td>\n",
              "      <td>8</td>\n",
              "      <td>314</td>\n",
              "      <td>1</td>\n",
              "      <td>-1</td>\n",
              "      <td>0</td>\n",
              "      <td>0.0</td>\n",
              "      <td>0.0</td>\n",
              "      <td>1.0</td>\n",
              "      <td>...</td>\n",
              "      <td>0.0</td>\n",
              "      <td>0.0</td>\n",
              "      <td>1.0</td>\n",
              "      <td>0.0</td>\n",
              "      <td>0.0</td>\n",
              "      <td>0.0</td>\n",
              "      <td>0.0</td>\n",
              "      <td>0.0</td>\n",
              "      <td>0.0</td>\n",
              "      <td>1.0</td>\n",
              "    </tr>\n",
              "    <tr>\n",
              "      <th>881</th>\n",
              "      <td>31</td>\n",
              "      <td>102</td>\n",
              "      <td>17</td>\n",
              "      <td>460</td>\n",
              "      <td>2</td>\n",
              "      <td>345</td>\n",
              "      <td>2</td>\n",
              "      <td>0.0</td>\n",
              "      <td>0.0</td>\n",
              "      <td>0.0</td>\n",
              "      <td>...</td>\n",
              "      <td>0.0</td>\n",
              "      <td>0.0</td>\n",
              "      <td>0.0</td>\n",
              "      <td>0.0</td>\n",
              "      <td>0.0</td>\n",
              "      <td>0.0</td>\n",
              "      <td>1.0</td>\n",
              "      <td>0.0</td>\n",
              "      <td>0.0</td>\n",
              "      <td>0.0</td>\n",
              "    </tr>\n",
              "    <tr>\n",
              "      <th>3872</th>\n",
              "      <td>29</td>\n",
              "      <td>209</td>\n",
              "      <td>28</td>\n",
              "      <td>487</td>\n",
              "      <td>7</td>\n",
              "      <td>-1</td>\n",
              "      <td>0</td>\n",
              "      <td>0.0</td>\n",
              "      <td>0.0</td>\n",
              "      <td>0.0</td>\n",
              "      <td>...</td>\n",
              "      <td>0.0</td>\n",
              "      <td>0.0</td>\n",
              "      <td>0.0</td>\n",
              "      <td>0.0</td>\n",
              "      <td>0.0</td>\n",
              "      <td>0.0</td>\n",
              "      <td>0.0</td>\n",
              "      <td>0.0</td>\n",
              "      <td>0.0</td>\n",
              "      <td>1.0</td>\n",
              "    </tr>\n",
              "    <tr>\n",
              "      <th>269</th>\n",
              "      <td>56</td>\n",
              "      <td>1007</td>\n",
              "      <td>29</td>\n",
              "      <td>88</td>\n",
              "      <td>6</td>\n",
              "      <td>-1</td>\n",
              "      <td>0</td>\n",
              "      <td>0.0</td>\n",
              "      <td>0.0</td>\n",
              "      <td>0.0</td>\n",
              "      <td>...</td>\n",
              "      <td>0.0</td>\n",
              "      <td>0.0</td>\n",
              "      <td>0.0</td>\n",
              "      <td>0.0</td>\n",
              "      <td>0.0</td>\n",
              "      <td>0.0</td>\n",
              "      <td>0.0</td>\n",
              "      <td>0.0</td>\n",
              "      <td>0.0</td>\n",
              "      <td>1.0</td>\n",
              "    </tr>\n",
              "  </tbody>\n",
              "</table>\n",
              "<p>5 rows × 51 columns</p>\n",
              "</div>\n",
              "    <div class=\"colab-df-buttons\">\n",
              "\n",
              "  <div class=\"colab-df-container\">\n",
              "    <button class=\"colab-df-convert\" onclick=\"convertToInteractive('df-d758e9e4-0f23-43a9-b704-b35efc7743d2')\"\n",
              "            title=\"Convert this dataframe to an interactive table.\"\n",
              "            style=\"display:none;\">\n",
              "\n",
              "  <svg xmlns=\"http://www.w3.org/2000/svg\" height=\"24px\" viewBox=\"0 -960 960 960\">\n",
              "    <path d=\"M120-120v-720h720v720H120Zm60-500h600v-160H180v160Zm220 220h160v-160H400v160Zm0 220h160v-160H400v160ZM180-400h160v-160H180v160Zm440 0h160v-160H620v160ZM180-180h160v-160H180v160Zm440 0h160v-160H620v160Z\"/>\n",
              "  </svg>\n",
              "    </button>\n",
              "\n",
              "  <style>\n",
              "    .colab-df-container {\n",
              "      display:flex;\n",
              "      gap: 12px;\n",
              "    }\n",
              "\n",
              "    .colab-df-convert {\n",
              "      background-color: #E8F0FE;\n",
              "      border: none;\n",
              "      border-radius: 50%;\n",
              "      cursor: pointer;\n",
              "      display: none;\n",
              "      fill: #1967D2;\n",
              "      height: 32px;\n",
              "      padding: 0 0 0 0;\n",
              "      width: 32px;\n",
              "    }\n",
              "\n",
              "    .colab-df-convert:hover {\n",
              "      background-color: #E2EBFA;\n",
              "      box-shadow: 0px 1px 2px rgba(60, 64, 67, 0.3), 0px 1px 3px 1px rgba(60, 64, 67, 0.15);\n",
              "      fill: #174EA6;\n",
              "    }\n",
              "\n",
              "    .colab-df-buttons div {\n",
              "      margin-bottom: 4px;\n",
              "    }\n",
              "\n",
              "    [theme=dark] .colab-df-convert {\n",
              "      background-color: #3B4455;\n",
              "      fill: #D2E3FC;\n",
              "    }\n",
              "\n",
              "    [theme=dark] .colab-df-convert:hover {\n",
              "      background-color: #434B5C;\n",
              "      box-shadow: 0px 1px 3px 1px rgba(0, 0, 0, 0.15);\n",
              "      filter: drop-shadow(0px 1px 2px rgba(0, 0, 0, 0.3));\n",
              "      fill: #FFFFFF;\n",
              "    }\n",
              "  </style>\n",
              "\n",
              "    <script>\n",
              "      const buttonEl =\n",
              "        document.querySelector('#df-d758e9e4-0f23-43a9-b704-b35efc7743d2 button.colab-df-convert');\n",
              "      buttonEl.style.display =\n",
              "        google.colab.kernel.accessAllowed ? 'block' : 'none';\n",
              "\n",
              "      async function convertToInteractive(key) {\n",
              "        const element = document.querySelector('#df-d758e9e4-0f23-43a9-b704-b35efc7743d2');\n",
              "        const dataTable =\n",
              "          await google.colab.kernel.invokeFunction('convertToInteractive',\n",
              "                                                    [key], {});\n",
              "        if (!dataTable) return;\n",
              "\n",
              "        const docLinkHtml = 'Like what you see? Visit the ' +\n",
              "          '<a target=\"_blank\" href=https://colab.research.google.com/notebooks/data_table.ipynb>data table notebook</a>'\n",
              "          + ' to learn more about interactive tables.';\n",
              "        element.innerHTML = '';\n",
              "        dataTable['output_type'] = 'display_data';\n",
              "        await google.colab.output.renderOutput(dataTable, element);\n",
              "        const docLink = document.createElement('div');\n",
              "        docLink.innerHTML = docLinkHtml;\n",
              "        element.appendChild(docLink);\n",
              "      }\n",
              "    </script>\n",
              "  </div>\n",
              "\n",
              "\n",
              "<div id=\"df-1557e567-4c9a-4b73-bed3-201d4be1692e\">\n",
              "  <button class=\"colab-df-quickchart\" onclick=\"quickchart('df-1557e567-4c9a-4b73-bed3-201d4be1692e')\"\n",
              "            title=\"Suggest charts.\"\n",
              "            style=\"display:none;\">\n",
              "\n",
              "<svg xmlns=\"http://www.w3.org/2000/svg\" height=\"24px\"viewBox=\"0 0 24 24\"\n",
              "     width=\"24px\">\n",
              "    <g>\n",
              "        <path d=\"M19 3H5c-1.1 0-2 .9-2 2v14c0 1.1.9 2 2 2h14c1.1 0 2-.9 2-2V5c0-1.1-.9-2-2-2zM9 17H7v-7h2v7zm4 0h-2V7h2v10zm4 0h-2v-4h2v4z\"/>\n",
              "    </g>\n",
              "</svg>\n",
              "  </button>\n",
              "\n",
              "<style>\n",
              "  .colab-df-quickchart {\n",
              "      --bg-color: #E8F0FE;\n",
              "      --fill-color: #1967D2;\n",
              "      --hover-bg-color: #E2EBFA;\n",
              "      --hover-fill-color: #174EA6;\n",
              "      --disabled-fill-color: #AAA;\n",
              "      --disabled-bg-color: #DDD;\n",
              "  }\n",
              "\n",
              "  [theme=dark] .colab-df-quickchart {\n",
              "      --bg-color: #3B4455;\n",
              "      --fill-color: #D2E3FC;\n",
              "      --hover-bg-color: #434B5C;\n",
              "      --hover-fill-color: #FFFFFF;\n",
              "      --disabled-bg-color: #3B4455;\n",
              "      --disabled-fill-color: #666;\n",
              "  }\n",
              "\n",
              "  .colab-df-quickchart {\n",
              "    background-color: var(--bg-color);\n",
              "    border: none;\n",
              "    border-radius: 50%;\n",
              "    cursor: pointer;\n",
              "    display: none;\n",
              "    fill: var(--fill-color);\n",
              "    height: 32px;\n",
              "    padding: 0;\n",
              "    width: 32px;\n",
              "  }\n",
              "\n",
              "  .colab-df-quickchart:hover {\n",
              "    background-color: var(--hover-bg-color);\n",
              "    box-shadow: 0 1px 2px rgba(60, 64, 67, 0.3), 0 1px 3px 1px rgba(60, 64, 67, 0.15);\n",
              "    fill: var(--button-hover-fill-color);\n",
              "  }\n",
              "\n",
              "  .colab-df-quickchart-complete:disabled,\n",
              "  .colab-df-quickchart-complete:disabled:hover {\n",
              "    background-color: var(--disabled-bg-color);\n",
              "    fill: var(--disabled-fill-color);\n",
              "    box-shadow: none;\n",
              "  }\n",
              "\n",
              "  .colab-df-spinner {\n",
              "    border: 2px solid var(--fill-color);\n",
              "    border-color: transparent;\n",
              "    border-bottom-color: var(--fill-color);\n",
              "    animation:\n",
              "      spin 1s steps(1) infinite;\n",
              "  }\n",
              "\n",
              "  @keyframes spin {\n",
              "    0% {\n",
              "      border-color: transparent;\n",
              "      border-bottom-color: var(--fill-color);\n",
              "      border-left-color: var(--fill-color);\n",
              "    }\n",
              "    20% {\n",
              "      border-color: transparent;\n",
              "      border-left-color: var(--fill-color);\n",
              "      border-top-color: var(--fill-color);\n",
              "    }\n",
              "    30% {\n",
              "      border-color: transparent;\n",
              "      border-left-color: var(--fill-color);\n",
              "      border-top-color: var(--fill-color);\n",
              "      border-right-color: var(--fill-color);\n",
              "    }\n",
              "    40% {\n",
              "      border-color: transparent;\n",
              "      border-right-color: var(--fill-color);\n",
              "      border-top-color: var(--fill-color);\n",
              "    }\n",
              "    60% {\n",
              "      border-color: transparent;\n",
              "      border-right-color: var(--fill-color);\n",
              "    }\n",
              "    80% {\n",
              "      border-color: transparent;\n",
              "      border-right-color: var(--fill-color);\n",
              "      border-bottom-color: var(--fill-color);\n",
              "    }\n",
              "    90% {\n",
              "      border-color: transparent;\n",
              "      border-bottom-color: var(--fill-color);\n",
              "    }\n",
              "  }\n",
              "</style>\n",
              "\n",
              "  <script>\n",
              "    async function quickchart(key) {\n",
              "      const quickchartButtonEl =\n",
              "        document.querySelector('#' + key + ' button');\n",
              "      quickchartButtonEl.disabled = true;  // To prevent multiple clicks.\n",
              "      quickchartButtonEl.classList.add('colab-df-spinner');\n",
              "      try {\n",
              "        const charts = await google.colab.kernel.invokeFunction(\n",
              "            'suggestCharts', [key], {});\n",
              "      } catch (error) {\n",
              "        console.error('Error during call to suggestCharts:', error);\n",
              "      }\n",
              "      quickchartButtonEl.classList.remove('colab-df-spinner');\n",
              "      quickchartButtonEl.classList.add('colab-df-quickchart-complete');\n",
              "    }\n",
              "    (() => {\n",
              "      let quickchartButtonEl =\n",
              "        document.querySelector('#df-1557e567-4c9a-4b73-bed3-201d4be1692e button');\n",
              "      quickchartButtonEl.style.display =\n",
              "        google.colab.kernel.accessAllowed ? 'block' : 'none';\n",
              "    })();\n",
              "  </script>\n",
              "</div>\n",
              "    </div>\n",
              "  </div>\n"
            ]
          },
          "metadata": {},
          "execution_count": 10
        }
      ]
    },
    {
      "cell_type": "code",
      "source": [
        "print(Xtrain.columns)"
      ],
      "metadata": {
        "colab": {
          "base_uri": "https://localhost:8080/"
        },
        "id": "QaQ0dMW6ZDCL",
        "outputId": "a820ec62-f3b6-421e-c4a2-3997f5b9c741"
      },
      "execution_count": null,
      "outputs": [
        {
          "output_type": "stream",
          "name": "stdout",
          "text": [
            "Index(['age', 'balance', 'day', 'duration', 'campaign', 'pdays', 'previous',\n",
            "       'job_admin.', 'job_blue-collar', 'job_entrepreneur', 'job_housemaid',\n",
            "       'job_management', 'job_retired', 'job_self-employed', 'job_services',\n",
            "       'job_student', 'job_technician', 'job_unemployed', 'job_unknown',\n",
            "       'marital_divorced', 'marital_married', 'marital_single',\n",
            "       'education_primary', 'education_secondary', 'education_tertiary',\n",
            "       'education_unknown', 'default_no', 'default_yes', 'housing_no',\n",
            "       'housing_yes', 'loan_no', 'loan_yes', 'contact_cellular',\n",
            "       'contact_telephone', 'contact_unknown', 'month_apr', 'month_aug',\n",
            "       'month_dec', 'month_feb', 'month_jan', 'month_jul', 'month_jun',\n",
            "       'month_mar', 'month_may', 'month_nov', 'month_oct', 'month_sep',\n",
            "       'poutcome_failure', 'poutcome_other', 'poutcome_success',\n",
            "       'poutcome_unknown'],\n",
            "      dtype='object')\n"
          ]
        }
      ]
    },
    {
      "cell_type": "code",
      "source": [
        "# OneHotEncoding on Test (only transform)\n",
        "# OneHotEncoding is to be done on Categorical variables.\n",
        "Xcat = pd.DataFrame(ohe.transform(Xtest[categoricalFeatures]),columns=ohe.get_feature_names_out(),index=Xtest.index)\n",
        "Xtest = pd.concat([Xtest,Xcat],axis=1)\n",
        "Xtest.drop(labels=categoricalFeatures,axis=1,inplace=True)\n",
        "Xtest.sample(5)"
      ],
      "metadata": {
        "id": "FkitZHXEaKBm",
        "colab": {
          "base_uri": "https://localhost:8080/",
          "height": 235
        },
        "outputId": "6195aade-1e14-401b-c1ca-e167d544d28c"
      },
      "execution_count": null,
      "outputs": [
        {
          "output_type": "execute_result",
          "data": {
            "text/plain": [
              "       age  balance  day  duration  campaign  pdays  previous  job_admin.  \\\n",
              "31179   34     -398   27        47         8     -1         0         0.0   \n",
              "26066   35      951   19       220         2     -1         0         0.0   \n",
              "3612    46     8717   15       343         5     -1         0         0.0   \n",
              "24701   56     1092   17       176         3    186         4         0.0   \n",
              "9417    35     8127    6       315         1     -1         0         0.0   \n",
              "\n",
              "       job_blue-collar  job_entrepreneur  ...  month_jun  month_mar  \\\n",
              "31179              1.0               0.0  ...        0.0        0.0   \n",
              "26066              0.0               0.0  ...        0.0        0.0   \n",
              "3612               0.0               0.0  ...        0.0        0.0   \n",
              "24701              0.0               0.0  ...        0.0        0.0   \n",
              "9417               0.0               0.0  ...        1.0        0.0   \n",
              "\n",
              "       month_may  month_nov  month_oct  month_sep  poutcome_failure  \\\n",
              "31179        0.0        0.0        0.0        0.0               0.0   \n",
              "26066        0.0        1.0        0.0        0.0               0.0   \n",
              "3612         1.0        0.0        0.0        0.0               0.0   \n",
              "24701        0.0        1.0        0.0        0.0               1.0   \n",
              "9417         0.0        0.0        0.0        0.0               0.0   \n",
              "\n",
              "       poutcome_other  poutcome_success  poutcome_unknown  \n",
              "31179             0.0               0.0               1.0  \n",
              "26066             0.0               0.0               1.0  \n",
              "3612              0.0               0.0               1.0  \n",
              "24701             0.0               0.0               0.0  \n",
              "9417              0.0               0.0               1.0  \n",
              "\n",
              "[5 rows x 51 columns]"
            ],
            "text/html": [
              "\n",
              "  <div id=\"df-4f3c1956-9032-46af-86fd-e13bc995b1a6\" class=\"colab-df-container\">\n",
              "    <div>\n",
              "<style scoped>\n",
              "    .dataframe tbody tr th:only-of-type {\n",
              "        vertical-align: middle;\n",
              "    }\n",
              "\n",
              "    .dataframe tbody tr th {\n",
              "        vertical-align: top;\n",
              "    }\n",
              "\n",
              "    .dataframe thead th {\n",
              "        text-align: right;\n",
              "    }\n",
              "</style>\n",
              "<table border=\"1\" class=\"dataframe\">\n",
              "  <thead>\n",
              "    <tr style=\"text-align: right;\">\n",
              "      <th></th>\n",
              "      <th>age</th>\n",
              "      <th>balance</th>\n",
              "      <th>day</th>\n",
              "      <th>duration</th>\n",
              "      <th>campaign</th>\n",
              "      <th>pdays</th>\n",
              "      <th>previous</th>\n",
              "      <th>job_admin.</th>\n",
              "      <th>job_blue-collar</th>\n",
              "      <th>job_entrepreneur</th>\n",
              "      <th>...</th>\n",
              "      <th>month_jun</th>\n",
              "      <th>month_mar</th>\n",
              "      <th>month_may</th>\n",
              "      <th>month_nov</th>\n",
              "      <th>month_oct</th>\n",
              "      <th>month_sep</th>\n",
              "      <th>poutcome_failure</th>\n",
              "      <th>poutcome_other</th>\n",
              "      <th>poutcome_success</th>\n",
              "      <th>poutcome_unknown</th>\n",
              "    </tr>\n",
              "  </thead>\n",
              "  <tbody>\n",
              "    <tr>\n",
              "      <th>31179</th>\n",
              "      <td>34</td>\n",
              "      <td>-398</td>\n",
              "      <td>27</td>\n",
              "      <td>47</td>\n",
              "      <td>8</td>\n",
              "      <td>-1</td>\n",
              "      <td>0</td>\n",
              "      <td>0.0</td>\n",
              "      <td>1.0</td>\n",
              "      <td>0.0</td>\n",
              "      <td>...</td>\n",
              "      <td>0.0</td>\n",
              "      <td>0.0</td>\n",
              "      <td>0.0</td>\n",
              "      <td>0.0</td>\n",
              "      <td>0.0</td>\n",
              "      <td>0.0</td>\n",
              "      <td>0.0</td>\n",
              "      <td>0.0</td>\n",
              "      <td>0.0</td>\n",
              "      <td>1.0</td>\n",
              "    </tr>\n",
              "    <tr>\n",
              "      <th>26066</th>\n",
              "      <td>35</td>\n",
              "      <td>951</td>\n",
              "      <td>19</td>\n",
              "      <td>220</td>\n",
              "      <td>2</td>\n",
              "      <td>-1</td>\n",
              "      <td>0</td>\n",
              "      <td>0.0</td>\n",
              "      <td>0.0</td>\n",
              "      <td>0.0</td>\n",
              "      <td>...</td>\n",
              "      <td>0.0</td>\n",
              "      <td>0.0</td>\n",
              "      <td>0.0</td>\n",
              "      <td>1.0</td>\n",
              "      <td>0.0</td>\n",
              "      <td>0.0</td>\n",
              "      <td>0.0</td>\n",
              "      <td>0.0</td>\n",
              "      <td>0.0</td>\n",
              "      <td>1.0</td>\n",
              "    </tr>\n",
              "    <tr>\n",
              "      <th>3612</th>\n",
              "      <td>46</td>\n",
              "      <td>8717</td>\n",
              "      <td>15</td>\n",
              "      <td>343</td>\n",
              "      <td>5</td>\n",
              "      <td>-1</td>\n",
              "      <td>0</td>\n",
              "      <td>0.0</td>\n",
              "      <td>0.0</td>\n",
              "      <td>0.0</td>\n",
              "      <td>...</td>\n",
              "      <td>0.0</td>\n",
              "      <td>0.0</td>\n",
              "      <td>1.0</td>\n",
              "      <td>0.0</td>\n",
              "      <td>0.0</td>\n",
              "      <td>0.0</td>\n",
              "      <td>0.0</td>\n",
              "      <td>0.0</td>\n",
              "      <td>0.0</td>\n",
              "      <td>1.0</td>\n",
              "    </tr>\n",
              "    <tr>\n",
              "      <th>24701</th>\n",
              "      <td>56</td>\n",
              "      <td>1092</td>\n",
              "      <td>17</td>\n",
              "      <td>176</td>\n",
              "      <td>3</td>\n",
              "      <td>186</td>\n",
              "      <td>4</td>\n",
              "      <td>0.0</td>\n",
              "      <td>0.0</td>\n",
              "      <td>0.0</td>\n",
              "      <td>...</td>\n",
              "      <td>0.0</td>\n",
              "      <td>0.0</td>\n",
              "      <td>0.0</td>\n",
              "      <td>1.0</td>\n",
              "      <td>0.0</td>\n",
              "      <td>0.0</td>\n",
              "      <td>1.0</td>\n",
              "      <td>0.0</td>\n",
              "      <td>0.0</td>\n",
              "      <td>0.0</td>\n",
              "    </tr>\n",
              "    <tr>\n",
              "      <th>9417</th>\n",
              "      <td>35</td>\n",
              "      <td>8127</td>\n",
              "      <td>6</td>\n",
              "      <td>315</td>\n",
              "      <td>1</td>\n",
              "      <td>-1</td>\n",
              "      <td>0</td>\n",
              "      <td>0.0</td>\n",
              "      <td>0.0</td>\n",
              "      <td>0.0</td>\n",
              "      <td>...</td>\n",
              "      <td>1.0</td>\n",
              "      <td>0.0</td>\n",
              "      <td>0.0</td>\n",
              "      <td>0.0</td>\n",
              "      <td>0.0</td>\n",
              "      <td>0.0</td>\n",
              "      <td>0.0</td>\n",
              "      <td>0.0</td>\n",
              "      <td>0.0</td>\n",
              "      <td>1.0</td>\n",
              "    </tr>\n",
              "  </tbody>\n",
              "</table>\n",
              "<p>5 rows × 51 columns</p>\n",
              "</div>\n",
              "    <div class=\"colab-df-buttons\">\n",
              "\n",
              "  <div class=\"colab-df-container\">\n",
              "    <button class=\"colab-df-convert\" onclick=\"convertToInteractive('df-4f3c1956-9032-46af-86fd-e13bc995b1a6')\"\n",
              "            title=\"Convert this dataframe to an interactive table.\"\n",
              "            style=\"display:none;\">\n",
              "\n",
              "  <svg xmlns=\"http://www.w3.org/2000/svg\" height=\"24px\" viewBox=\"0 -960 960 960\">\n",
              "    <path d=\"M120-120v-720h720v720H120Zm60-500h600v-160H180v160Zm220 220h160v-160H400v160Zm0 220h160v-160H400v160ZM180-400h160v-160H180v160Zm440 0h160v-160H620v160ZM180-180h160v-160H180v160Zm440 0h160v-160H620v160Z\"/>\n",
              "  </svg>\n",
              "    </button>\n",
              "\n",
              "  <style>\n",
              "    .colab-df-container {\n",
              "      display:flex;\n",
              "      gap: 12px;\n",
              "    }\n",
              "\n",
              "    .colab-df-convert {\n",
              "      background-color: #E8F0FE;\n",
              "      border: none;\n",
              "      border-radius: 50%;\n",
              "      cursor: pointer;\n",
              "      display: none;\n",
              "      fill: #1967D2;\n",
              "      height: 32px;\n",
              "      padding: 0 0 0 0;\n",
              "      width: 32px;\n",
              "    }\n",
              "\n",
              "    .colab-df-convert:hover {\n",
              "      background-color: #E2EBFA;\n",
              "      box-shadow: 0px 1px 2px rgba(60, 64, 67, 0.3), 0px 1px 3px 1px rgba(60, 64, 67, 0.15);\n",
              "      fill: #174EA6;\n",
              "    }\n",
              "\n",
              "    .colab-df-buttons div {\n",
              "      margin-bottom: 4px;\n",
              "    }\n",
              "\n",
              "    [theme=dark] .colab-df-convert {\n",
              "      background-color: #3B4455;\n",
              "      fill: #D2E3FC;\n",
              "    }\n",
              "\n",
              "    [theme=dark] .colab-df-convert:hover {\n",
              "      background-color: #434B5C;\n",
              "      box-shadow: 0px 1px 3px 1px rgba(0, 0, 0, 0.15);\n",
              "      filter: drop-shadow(0px 1px 2px rgba(0, 0, 0, 0.3));\n",
              "      fill: #FFFFFF;\n",
              "    }\n",
              "  </style>\n",
              "\n",
              "    <script>\n",
              "      const buttonEl =\n",
              "        document.querySelector('#df-4f3c1956-9032-46af-86fd-e13bc995b1a6 button.colab-df-convert');\n",
              "      buttonEl.style.display =\n",
              "        google.colab.kernel.accessAllowed ? 'block' : 'none';\n",
              "\n",
              "      async function convertToInteractive(key) {\n",
              "        const element = document.querySelector('#df-4f3c1956-9032-46af-86fd-e13bc995b1a6');\n",
              "        const dataTable =\n",
              "          await google.colab.kernel.invokeFunction('convertToInteractive',\n",
              "                                                    [key], {});\n",
              "        if (!dataTable) return;\n",
              "\n",
              "        const docLinkHtml = 'Like what you see? Visit the ' +\n",
              "          '<a target=\"_blank\" href=https://colab.research.google.com/notebooks/data_table.ipynb>data table notebook</a>'\n",
              "          + ' to learn more about interactive tables.';\n",
              "        element.innerHTML = '';\n",
              "        dataTable['output_type'] = 'display_data';\n",
              "        await google.colab.output.renderOutput(dataTable, element);\n",
              "        const docLink = document.createElement('div');\n",
              "        docLink.innerHTML = docLinkHtml;\n",
              "        element.appendChild(docLink);\n",
              "      }\n",
              "    </script>\n",
              "  </div>\n",
              "\n",
              "\n",
              "<div id=\"df-d0d64309-a6bc-4a5b-8b1d-55f2d317ddee\">\n",
              "  <button class=\"colab-df-quickchart\" onclick=\"quickchart('df-d0d64309-a6bc-4a5b-8b1d-55f2d317ddee')\"\n",
              "            title=\"Suggest charts.\"\n",
              "            style=\"display:none;\">\n",
              "\n",
              "<svg xmlns=\"http://www.w3.org/2000/svg\" height=\"24px\"viewBox=\"0 0 24 24\"\n",
              "     width=\"24px\">\n",
              "    <g>\n",
              "        <path d=\"M19 3H5c-1.1 0-2 .9-2 2v14c0 1.1.9 2 2 2h14c1.1 0 2-.9 2-2V5c0-1.1-.9-2-2-2zM9 17H7v-7h2v7zm4 0h-2V7h2v10zm4 0h-2v-4h2v4z\"/>\n",
              "    </g>\n",
              "</svg>\n",
              "  </button>\n",
              "\n",
              "<style>\n",
              "  .colab-df-quickchart {\n",
              "      --bg-color: #E8F0FE;\n",
              "      --fill-color: #1967D2;\n",
              "      --hover-bg-color: #E2EBFA;\n",
              "      --hover-fill-color: #174EA6;\n",
              "      --disabled-fill-color: #AAA;\n",
              "      --disabled-bg-color: #DDD;\n",
              "  }\n",
              "\n",
              "  [theme=dark] .colab-df-quickchart {\n",
              "      --bg-color: #3B4455;\n",
              "      --fill-color: #D2E3FC;\n",
              "      --hover-bg-color: #434B5C;\n",
              "      --hover-fill-color: #FFFFFF;\n",
              "      --disabled-bg-color: #3B4455;\n",
              "      --disabled-fill-color: #666;\n",
              "  }\n",
              "\n",
              "  .colab-df-quickchart {\n",
              "    background-color: var(--bg-color);\n",
              "    border: none;\n",
              "    border-radius: 50%;\n",
              "    cursor: pointer;\n",
              "    display: none;\n",
              "    fill: var(--fill-color);\n",
              "    height: 32px;\n",
              "    padding: 0;\n",
              "    width: 32px;\n",
              "  }\n",
              "\n",
              "  .colab-df-quickchart:hover {\n",
              "    background-color: var(--hover-bg-color);\n",
              "    box-shadow: 0 1px 2px rgba(60, 64, 67, 0.3), 0 1px 3px 1px rgba(60, 64, 67, 0.15);\n",
              "    fill: var(--button-hover-fill-color);\n",
              "  }\n",
              "\n",
              "  .colab-df-quickchart-complete:disabled,\n",
              "  .colab-df-quickchart-complete:disabled:hover {\n",
              "    background-color: var(--disabled-bg-color);\n",
              "    fill: var(--disabled-fill-color);\n",
              "    box-shadow: none;\n",
              "  }\n",
              "\n",
              "  .colab-df-spinner {\n",
              "    border: 2px solid var(--fill-color);\n",
              "    border-color: transparent;\n",
              "    border-bottom-color: var(--fill-color);\n",
              "    animation:\n",
              "      spin 1s steps(1) infinite;\n",
              "  }\n",
              "\n",
              "  @keyframes spin {\n",
              "    0% {\n",
              "      border-color: transparent;\n",
              "      border-bottom-color: var(--fill-color);\n",
              "      border-left-color: var(--fill-color);\n",
              "    }\n",
              "    20% {\n",
              "      border-color: transparent;\n",
              "      border-left-color: var(--fill-color);\n",
              "      border-top-color: var(--fill-color);\n",
              "    }\n",
              "    30% {\n",
              "      border-color: transparent;\n",
              "      border-left-color: var(--fill-color);\n",
              "      border-top-color: var(--fill-color);\n",
              "      border-right-color: var(--fill-color);\n",
              "    }\n",
              "    40% {\n",
              "      border-color: transparent;\n",
              "      border-right-color: var(--fill-color);\n",
              "      border-top-color: var(--fill-color);\n",
              "    }\n",
              "    60% {\n",
              "      border-color: transparent;\n",
              "      border-right-color: var(--fill-color);\n",
              "    }\n",
              "    80% {\n",
              "      border-color: transparent;\n",
              "      border-right-color: var(--fill-color);\n",
              "      border-bottom-color: var(--fill-color);\n",
              "    }\n",
              "    90% {\n",
              "      border-color: transparent;\n",
              "      border-bottom-color: var(--fill-color);\n",
              "    }\n",
              "  }\n",
              "</style>\n",
              "\n",
              "  <script>\n",
              "    async function quickchart(key) {\n",
              "      const quickchartButtonEl =\n",
              "        document.querySelector('#' + key + ' button');\n",
              "      quickchartButtonEl.disabled = true;  // To prevent multiple clicks.\n",
              "      quickchartButtonEl.classList.add('colab-df-spinner');\n",
              "      try {\n",
              "        const charts = await google.colab.kernel.invokeFunction(\n",
              "            'suggestCharts', [key], {});\n",
              "      } catch (error) {\n",
              "        console.error('Error during call to suggestCharts:', error);\n",
              "      }\n",
              "      quickchartButtonEl.classList.remove('colab-df-spinner');\n",
              "      quickchartButtonEl.classList.add('colab-df-quickchart-complete');\n",
              "    }\n",
              "    (() => {\n",
              "      let quickchartButtonEl =\n",
              "        document.querySelector('#df-d0d64309-a6bc-4a5b-8b1d-55f2d317ddee button');\n",
              "      quickchartButtonEl.style.display =\n",
              "        google.colab.kernel.accessAllowed ? 'block' : 'none';\n",
              "    })();\n",
              "  </script>\n",
              "</div>\n",
              "    </div>\n",
              "  </div>\n"
            ]
          },
          "metadata": {},
          "execution_count": 12
        }
      ]
    },
    {
      "cell_type": "code",
      "source": [
        "print(Xtest.columns)"
      ],
      "metadata": {
        "colab": {
          "base_uri": "https://localhost:8080/"
        },
        "id": "-r_oBOd5Yhy9",
        "outputId": "ef0fcecf-9a71-43f3-b767-82d7f6df6899"
      },
      "execution_count": null,
      "outputs": [
        {
          "output_type": "stream",
          "name": "stdout",
          "text": [
            "Index(['age', 'balance', 'day', 'duration', 'campaign', 'pdays', 'previous',\n",
            "       'job_admin.', 'job_blue-collar', 'job_entrepreneur', 'job_housemaid',\n",
            "       'job_management', 'job_retired', 'job_self-employed', 'job_services',\n",
            "       'job_student', 'job_technician', 'job_unemployed', 'job_unknown',\n",
            "       'marital_divorced', 'marital_married', 'marital_single',\n",
            "       'education_primary', 'education_secondary', 'education_tertiary',\n",
            "       'education_unknown', 'default_no', 'default_yes', 'housing_no',\n",
            "       'housing_yes', 'loan_no', 'loan_yes', 'contact_cellular',\n",
            "       'contact_telephone', 'contact_unknown', 'month_apr', 'month_aug',\n",
            "       'month_dec', 'month_feb', 'month_jan', 'month_jul', 'month_jun',\n",
            "       'month_mar', 'month_may', 'month_nov', 'month_oct', 'month_sep',\n",
            "       'poutcome_failure', 'poutcome_other', 'poutcome_success',\n",
            "       'poutcome_unknown'],\n",
            "      dtype='object')\n"
          ]
        }
      ]
    },
    {
      "cell_type": "code",
      "source": [
        "dt = DecisionTreeClassifier()\n",
        "dt.fit(Xtrain, Ytrain)"
      ],
      "metadata": {
        "id": "ABkEiQwLaJ_Q",
        "colab": {
          "base_uri": "https://localhost:8080/",
          "height": 74
        },
        "outputId": "305a25af-3e8d-4228-f0ce-6d4e11350c7b"
      },
      "execution_count": null,
      "outputs": [
        {
          "output_type": "execute_result",
          "data": {
            "text/plain": [
              "DecisionTreeClassifier()"
            ],
            "text/html": [
              "<style>#sk-container-id-1 {color: black;background-color: white;}#sk-container-id-1 pre{padding: 0;}#sk-container-id-1 div.sk-toggleable {background-color: white;}#sk-container-id-1 label.sk-toggleable__label {cursor: pointer;display: block;width: 100%;margin-bottom: 0;padding: 0.3em;box-sizing: border-box;text-align: center;}#sk-container-id-1 label.sk-toggleable__label-arrow:before {content: \"▸\";float: left;margin-right: 0.25em;color: #696969;}#sk-container-id-1 label.sk-toggleable__label-arrow:hover:before {color: black;}#sk-container-id-1 div.sk-estimator:hover label.sk-toggleable__label-arrow:before {color: black;}#sk-container-id-1 div.sk-toggleable__content {max-height: 0;max-width: 0;overflow: hidden;text-align: left;background-color: #f0f8ff;}#sk-container-id-1 div.sk-toggleable__content pre {margin: 0.2em;color: black;border-radius: 0.25em;background-color: #f0f8ff;}#sk-container-id-1 input.sk-toggleable__control:checked~div.sk-toggleable__content {max-height: 200px;max-width: 100%;overflow: auto;}#sk-container-id-1 input.sk-toggleable__control:checked~label.sk-toggleable__label-arrow:before {content: \"▾\";}#sk-container-id-1 div.sk-estimator input.sk-toggleable__control:checked~label.sk-toggleable__label {background-color: #d4ebff;}#sk-container-id-1 div.sk-label input.sk-toggleable__control:checked~label.sk-toggleable__label {background-color: #d4ebff;}#sk-container-id-1 input.sk-hidden--visually {border: 0;clip: rect(1px 1px 1px 1px);clip: rect(1px, 1px, 1px, 1px);height: 1px;margin: -1px;overflow: hidden;padding: 0;position: absolute;width: 1px;}#sk-container-id-1 div.sk-estimator {font-family: monospace;background-color: #f0f8ff;border: 1px dotted black;border-radius: 0.25em;box-sizing: border-box;margin-bottom: 0.5em;}#sk-container-id-1 div.sk-estimator:hover {background-color: #d4ebff;}#sk-container-id-1 div.sk-parallel-item::after {content: \"\";width: 100%;border-bottom: 1px solid gray;flex-grow: 1;}#sk-container-id-1 div.sk-label:hover label.sk-toggleable__label {background-color: #d4ebff;}#sk-container-id-1 div.sk-serial::before {content: \"\";position: absolute;border-left: 1px solid gray;box-sizing: border-box;top: 0;bottom: 0;left: 50%;z-index: 0;}#sk-container-id-1 div.sk-serial {display: flex;flex-direction: column;align-items: center;background-color: white;padding-right: 0.2em;padding-left: 0.2em;position: relative;}#sk-container-id-1 div.sk-item {position: relative;z-index: 1;}#sk-container-id-1 div.sk-parallel {display: flex;align-items: stretch;justify-content: center;background-color: white;position: relative;}#sk-container-id-1 div.sk-item::before, #sk-container-id-1 div.sk-parallel-item::before {content: \"\";position: absolute;border-left: 1px solid gray;box-sizing: border-box;top: 0;bottom: 0;left: 50%;z-index: -1;}#sk-container-id-1 div.sk-parallel-item {display: flex;flex-direction: column;z-index: 1;position: relative;background-color: white;}#sk-container-id-1 div.sk-parallel-item:first-child::after {align-self: flex-end;width: 50%;}#sk-container-id-1 div.sk-parallel-item:last-child::after {align-self: flex-start;width: 50%;}#sk-container-id-1 div.sk-parallel-item:only-child::after {width: 0;}#sk-container-id-1 div.sk-dashed-wrapped {border: 1px dashed gray;margin: 0 0.4em 0.5em 0.4em;box-sizing: border-box;padding-bottom: 0.4em;background-color: white;}#sk-container-id-1 div.sk-label label {font-family: monospace;font-weight: bold;display: inline-block;line-height: 1.2em;}#sk-container-id-1 div.sk-label-container {text-align: center;}#sk-container-id-1 div.sk-container {/* jupyter's `normalize.less` sets `[hidden] { display: none; }` but bootstrap.min.css set `[hidden] { display: none !important; }` so we also need the `!important` here to be able to override the default hidden behavior on the sphinx rendered scikit-learn.org. See: https://github.com/scikit-learn/scikit-learn/issues/21755 */display: inline-block !important;position: relative;}#sk-container-id-1 div.sk-text-repr-fallback {display: none;}</style><div id=\"sk-container-id-1\" class=\"sk-top-container\"><div class=\"sk-text-repr-fallback\"><pre>DecisionTreeClassifier()</pre><b>In a Jupyter environment, please rerun this cell to show the HTML representation or trust the notebook. <br />On GitHub, the HTML representation is unable to render, please try loading this page with nbviewer.org.</b></div><div class=\"sk-container\" hidden><div class=\"sk-item\"><div class=\"sk-estimator sk-toggleable\"><input class=\"sk-toggleable__control sk-hidden--visually\" id=\"sk-estimator-id-1\" type=\"checkbox\" checked><label for=\"sk-estimator-id-1\" class=\"sk-toggleable__label sk-toggleable__label-arrow\">DecisionTreeClassifier</label><div class=\"sk-toggleable__content\"><pre>DecisionTreeClassifier()</pre></div></div></div></div></div>"
            ]
          },
          "metadata": {},
          "execution_count": 14
        }
      ]
    },
    {
      "cell_type": "code",
      "source": [
        "rf = RandomForestClassifier()\n",
        "rf.fit(Xtrain, Ytrain)"
      ],
      "metadata": {
        "id": "flC06aHnaJ8q",
        "colab": {
          "base_uri": "https://localhost:8080/",
          "height": 74
        },
        "outputId": "8628afb7-a299-44b3-d24f-0725a7a1e532"
      },
      "execution_count": null,
      "outputs": [
        {
          "output_type": "execute_result",
          "data": {
            "text/plain": [
              "RandomForestClassifier()"
            ],
            "text/html": [
              "<style>#sk-container-id-2 {color: black;background-color: white;}#sk-container-id-2 pre{padding: 0;}#sk-container-id-2 div.sk-toggleable {background-color: white;}#sk-container-id-2 label.sk-toggleable__label {cursor: pointer;display: block;width: 100%;margin-bottom: 0;padding: 0.3em;box-sizing: border-box;text-align: center;}#sk-container-id-2 label.sk-toggleable__label-arrow:before {content: \"▸\";float: left;margin-right: 0.25em;color: #696969;}#sk-container-id-2 label.sk-toggleable__label-arrow:hover:before {color: black;}#sk-container-id-2 div.sk-estimator:hover label.sk-toggleable__label-arrow:before {color: black;}#sk-container-id-2 div.sk-toggleable__content {max-height: 0;max-width: 0;overflow: hidden;text-align: left;background-color: #f0f8ff;}#sk-container-id-2 div.sk-toggleable__content pre {margin: 0.2em;color: black;border-radius: 0.25em;background-color: #f0f8ff;}#sk-container-id-2 input.sk-toggleable__control:checked~div.sk-toggleable__content {max-height: 200px;max-width: 100%;overflow: auto;}#sk-container-id-2 input.sk-toggleable__control:checked~label.sk-toggleable__label-arrow:before {content: \"▾\";}#sk-container-id-2 div.sk-estimator input.sk-toggleable__control:checked~label.sk-toggleable__label {background-color: #d4ebff;}#sk-container-id-2 div.sk-label input.sk-toggleable__control:checked~label.sk-toggleable__label {background-color: #d4ebff;}#sk-container-id-2 input.sk-hidden--visually {border: 0;clip: rect(1px 1px 1px 1px);clip: rect(1px, 1px, 1px, 1px);height: 1px;margin: -1px;overflow: hidden;padding: 0;position: absolute;width: 1px;}#sk-container-id-2 div.sk-estimator {font-family: monospace;background-color: #f0f8ff;border: 1px dotted black;border-radius: 0.25em;box-sizing: border-box;margin-bottom: 0.5em;}#sk-container-id-2 div.sk-estimator:hover {background-color: #d4ebff;}#sk-container-id-2 div.sk-parallel-item::after {content: \"\";width: 100%;border-bottom: 1px solid gray;flex-grow: 1;}#sk-container-id-2 div.sk-label:hover label.sk-toggleable__label {background-color: #d4ebff;}#sk-container-id-2 div.sk-serial::before {content: \"\";position: absolute;border-left: 1px solid gray;box-sizing: border-box;top: 0;bottom: 0;left: 50%;z-index: 0;}#sk-container-id-2 div.sk-serial {display: flex;flex-direction: column;align-items: center;background-color: white;padding-right: 0.2em;padding-left: 0.2em;position: relative;}#sk-container-id-2 div.sk-item {position: relative;z-index: 1;}#sk-container-id-2 div.sk-parallel {display: flex;align-items: stretch;justify-content: center;background-color: white;position: relative;}#sk-container-id-2 div.sk-item::before, #sk-container-id-2 div.sk-parallel-item::before {content: \"\";position: absolute;border-left: 1px solid gray;box-sizing: border-box;top: 0;bottom: 0;left: 50%;z-index: -1;}#sk-container-id-2 div.sk-parallel-item {display: flex;flex-direction: column;z-index: 1;position: relative;background-color: white;}#sk-container-id-2 div.sk-parallel-item:first-child::after {align-self: flex-end;width: 50%;}#sk-container-id-2 div.sk-parallel-item:last-child::after {align-self: flex-start;width: 50%;}#sk-container-id-2 div.sk-parallel-item:only-child::after {width: 0;}#sk-container-id-2 div.sk-dashed-wrapped {border: 1px dashed gray;margin: 0 0.4em 0.5em 0.4em;box-sizing: border-box;padding-bottom: 0.4em;background-color: white;}#sk-container-id-2 div.sk-label label {font-family: monospace;font-weight: bold;display: inline-block;line-height: 1.2em;}#sk-container-id-2 div.sk-label-container {text-align: center;}#sk-container-id-2 div.sk-container {/* jupyter's `normalize.less` sets `[hidden] { display: none; }` but bootstrap.min.css set `[hidden] { display: none !important; }` so we also need the `!important` here to be able to override the default hidden behavior on the sphinx rendered scikit-learn.org. See: https://github.com/scikit-learn/scikit-learn/issues/21755 */display: inline-block !important;position: relative;}#sk-container-id-2 div.sk-text-repr-fallback {display: none;}</style><div id=\"sk-container-id-2\" class=\"sk-top-container\"><div class=\"sk-text-repr-fallback\"><pre>RandomForestClassifier()</pre><b>In a Jupyter environment, please rerun this cell to show the HTML representation or trust the notebook. <br />On GitHub, the HTML representation is unable to render, please try loading this page with nbviewer.org.</b></div><div class=\"sk-container\" hidden><div class=\"sk-item\"><div class=\"sk-estimator sk-toggleable\"><input class=\"sk-toggleable__control sk-hidden--visually\" id=\"sk-estimator-id-2\" type=\"checkbox\" checked><label for=\"sk-estimator-id-2\" class=\"sk-toggleable__label sk-toggleable__label-arrow\">RandomForestClassifier</label><div class=\"sk-toggleable__content\"><pre>RandomForestClassifier()</pre></div></div></div></div></div>"
            ]
          },
          "metadata": {},
          "execution_count": 21
        }
      ]
    },
    {
      "cell_type": "code",
      "source": [
        "X_Pred = dt.predict(Xtest)\n",
        "XPred = dt.predict(Xtrain)\n",
        "#Model Accuracy (Decision Tree)\n",
        "print(\"Train Accuracy:\", metrics.accuracy_score(Ytrain,XPred))\n",
        "print(\"Test Accuracy:\", metrics.accuracy_score(Ytest,X_Pred))\n",
        "print(\"Confusion Matrix for Decision Tree:\")\n",
        "print(confusion_matrix(Ytest,X_Pred))\n",
        "print(\"Max Depth\",dt.get_depth())\n",
        "print(\"Leaf\",dt.get_n_leaves())\n",
        "print('Printing the precision and recall, among other metrics')\n",
        "print(metrics.classification_report(Ytest, X_Pred))\n",
        "print (\"Variable Rankings\",dt.feature_importances_)"
      ],
      "metadata": {
        "id": "QDbKpBnQaJ6K",
        "colab": {
          "base_uri": "https://localhost:8080/"
        },
        "outputId": "6cc4827e-e17a-4659-8ae6-633282192de2"
      },
      "execution_count": null,
      "outputs": [
        {
          "output_type": "stream",
          "name": "stdout",
          "text": [
            "Train Accuracy: 1.0\n",
            "Test Accuracy: 0.8809139368737696\n",
            "Confusion Matrix for Decision Tree:\n",
            "[[37088  2834]\n",
            " [ 2550  2739]]\n",
            "Max Depth 28\n",
            "Leaf 378\n",
            "Printing the precision and recall, among other metrics\n",
            "              precision    recall  f1-score   support\n",
            "\n",
            "          no       0.94      0.93      0.93     39922\n",
            "         yes       0.49      0.52      0.50      5289\n",
            "\n",
            "    accuracy                           0.88     45211\n",
            "   macro avg       0.71      0.72      0.72     45211\n",
            "weighted avg       0.88      0.88      0.88     45211\n",
            "\n",
            "Variable Rankings [0.08553847 0.08708254 0.10858606 0.25670638 0.03175679 0.04690072\n",
            " 0.01089615 0.0019076  0.00633917 0.00184891 0.00282642 0.0085657\n",
            " 0.01096978 0.00044586 0.00299378 0.00673543 0.01695518 0.00225256\n",
            " 0.00177167 0.00817401 0.00852663 0.00181785 0.         0.01196778\n",
            " 0.01948057 0.0022527  0.0074061  0.00040245 0.00977029 0.00990805\n",
            " 0.00514524 0.00253095 0.01003746 0.00493385 0.01208128 0.00862086\n",
            " 0.00896793 0.         0.01223353 0.         0.0063439  0.01774798\n",
            " 0.01069306 0.00502615 0.00548769 0.0191741  0.00546532 0.00144987\n",
            " 0.         0.09028633 0.00298893]\n"
          ]
        }
      ]
    },
    {
      "cell_type": "code",
      "source": [
        "X_Pred1 = rf.predict(Xtest)\n",
        "XPred1 = rf.predict(Xtrain)\n",
        "#Model Accuracy (Random Forest)\n",
        "print(\"Train Accuracy:\", metrics.accuracy_score(Ytrain,XPred1))\n",
        "print(\"Test Accuracy:\", metrics.accuracy_score(Ytest,X_Pred1))\n",
        "print(\"Confusion Matrix for Decision Tree:\")\n",
        "print(confusion_matrix(Ytest,X_Pred1))\n",
        "print('Printing the precision and recall, among other metrics')\n",
        "print(metrics.classification_report(Ytest, X_Pred1))\n",
        "print (\"Variable Rankings\",dt.feature_importances_)"
      ],
      "metadata": {
        "id": "QDNxp6obaJ4D",
        "colab": {
          "base_uri": "https://localhost:8080/"
        },
        "outputId": "f51945ce-368a-473d-a299-c7001d965aa3"
      },
      "execution_count": null,
      "outputs": [
        {
          "output_type": "stream",
          "name": "stdout",
          "text": [
            "Train Accuracy: 0.9995576199955762\n",
            "Test Accuracy: 0.9110614673420185\n",
            "Confusion Matrix for Decision Tree:\n",
            "[[39265   657]\n",
            " [ 3364  1925]]\n",
            "Printing the precision and recall, among other metrics\n",
            "              precision    recall  f1-score   support\n",
            "\n",
            "          no       0.92      0.98      0.95     39922\n",
            "         yes       0.75      0.36      0.49      5289\n",
            "\n",
            "    accuracy                           0.91     45211\n",
            "   macro avg       0.83      0.67      0.72     45211\n",
            "weighted avg       0.90      0.91      0.90     45211\n",
            "\n",
            "Variable Rankings [0.08553847 0.08708254 0.10858606 0.25670638 0.03175679 0.04690072\n",
            " 0.01089615 0.0019076  0.00633917 0.00184891 0.00282642 0.0085657\n",
            " 0.01096978 0.00044586 0.00299378 0.00673543 0.01695518 0.00225256\n",
            " 0.00177167 0.00817401 0.00852663 0.00181785 0.         0.01196778\n",
            " 0.01948057 0.0022527  0.0074061  0.00040245 0.00977029 0.00990805\n",
            " 0.00514524 0.00253095 0.01003746 0.00493385 0.01208128 0.00862086\n",
            " 0.00896793 0.         0.01223353 0.         0.0063439  0.01774798\n",
            " 0.01069306 0.00502615 0.00548769 0.0191741  0.00546532 0.00144987\n",
            " 0.         0.09028633 0.00298893]\n"
          ]
        }
      ]
    },
    {
      "cell_type": "markdown",
      "source": [
        "**Decision Tree - Random Search Parameter Changes **"
      ],
      "metadata": {
        "id": "MSsftFLCmf87"
      }
    },
    {
      "cell_type": "code",
      "source": [
        "#Hyperparameter tuning done for decision tree classifier\n",
        "\n",
        "#RANDOM SEARCH--------------------------------------------\n",
        "\n",
        "import time\n",
        "start_time = time.time()\n",
        "\n",
        "print(\"RandomizedSearchCV-Decision tree\")\n",
        "parameters={'min_samples_leaf' : range(15,700,10),'max_depth':\n",
        "            range(10,20,2),'criterion':['gini','entropy']}\n",
        "dt_random = RandomizedSearchCV(dt,parameters,n_iter=25,cv=20)\n",
        "dt_random.fit(Xtrain, Ytrain)\n",
        "grid_parm=dt_random.best_params_\n",
        "print(grid_parm)\n",
        "print(\"accuracy Score for Decision Tree:{0:6f}\".\n",
        "      format(dt_random.score(Xtest,Ytest)))\n",
        "\n",
        "print(\"--- %s seconds ---\" % (time.time() - start_time))"
      ],
      "metadata": {
        "id": "SGM2uVDiaJ1s",
        "colab": {
          "base_uri": "https://localhost:8080/"
        },
        "outputId": "fda57e48-be05-4e68-92f5-28f8cd395b34"
      },
      "execution_count": null,
      "outputs": [
        {
          "output_type": "stream",
          "name": "stdout",
          "text": [
            "RandomizedSearchCV-Decision tree\n",
            "{'min_samples_leaf': 25, 'max_depth': 10, 'criterion': 'entropy'}\n",
            "accuracy Score for Decision Tree:0.898741\n",
            "--- 22.116533517837524 seconds ---\n"
          ]
        }
      ]
    },
    {
      "cell_type": "code",
      "source": [
        "import time\n",
        "start_time = time.time()\n",
        "\n",
        "print(\"RandomizedSearchCV-Decision tree\")\n",
        "parameters={'min_samples_leaf' : range(10,700,10),'max_depth':\n",
        "            range(10,30,2),'criterion':['gini','entropy']}\n",
        "dt_random = RandomizedSearchCV(dt,parameters,n_iter=25,cv=10)\n",
        "dt_random.fit(Xtrain, Ytrain)\n",
        "grid_parm=dt_random.best_params_\n",
        "print(grid_parm)\n",
        "print(\"accuracy Score for Decision Tree:{0:6f}\".\n",
        "      format(dt_random.score(Xtest,Ytest)))\n",
        "\n",
        "print(\"--- %s seconds ---\" % (time.time() - start_time))"
      ],
      "metadata": {
        "colab": {
          "base_uri": "https://localhost:8080/"
        },
        "id": "4kC8sanWmF0d",
        "outputId": "a09a4758-0321-4225-c639-2c6a0f96dbd8"
      },
      "execution_count": null,
      "outputs": [
        {
          "output_type": "stream",
          "name": "stdout",
          "text": [
            "RandomizedSearchCV-Decision tree\n",
            "{'min_samples_leaf': 60, 'max_depth': 16, 'criterion': 'entropy'}\n",
            "accuracy Score for Decision Tree:0.897746\n",
            "--- 8.353017568588257 seconds ---\n"
          ]
        }
      ]
    },
    {
      "cell_type": "code",
      "source": [
        "import time\n",
        "start_time = time.time()\n",
        "\n",
        "print(\"RandomizedSearchCV-Decision tree\")\n",
        "parameters={'min_samples_leaf' : range(10,200,10),'max_depth':\n",
        "            range(15,20,2),'criterion':['gini','entropy']}\n",
        "dt_random = RandomizedSearchCV(dt,parameters,n_iter=25,cv=8)\n",
        "dt_random.fit(Xtrain, Ytrain)\n",
        "grid_parm=dt_random.best_params_\n",
        "print(grid_parm)\n",
        "print(\"accuracy Score for Decision Tree:{0:6f}\".\n",
        "      format(dt_random.score(Xtest,Ytest)))\n",
        "\n",
        "print(\"--- %s seconds ---\" % (time.time() - start_time))"
      ],
      "metadata": {
        "colab": {
          "base_uri": "https://localhost:8080/"
        },
        "id": "iGOuk8_HmFTw",
        "outputId": "5df4e466-5251-4e09-b11f-6310396279b8"
      },
      "execution_count": null,
      "outputs": [
        {
          "output_type": "stream",
          "name": "stdout",
          "text": [
            "RandomizedSearchCV-Decision tree\n",
            "{'min_samples_leaf': 20, 'max_depth': 19, 'criterion': 'gini'}\n",
            "accuracy Score for Decision Tree:0.896839\n",
            "--- 10.912633657455444 seconds ---\n"
          ]
        }
      ]
    },
    {
      "cell_type": "markdown",
      "source": [
        "**Decision Tree - Grid search parameter changes**"
      ],
      "metadata": {
        "id": "wx3niklWnO1f"
      }
    },
    {
      "cell_type": "code",
      "source": [
        "#GRID SEARCH----------------------------------------\n",
        "\n",
        "import time\n",
        "start_time = time.time()\n",
        "\n",
        "print(\"GridSearchCV-Decision tree - Metric 1\")\n",
        "dt_grid = GridSearchCV(dt,parameters)\n",
        "dt_grid.fit(Xtrain, Ytrain)\n",
        "grid_parm1=dt_grid.best_params_\n",
        "print(grid_parm1)\n",
        "print(\"accuracy Score for Decision Tree:{0:6f}\".\n",
        "      format(dt_grid.score(Xtest,Ytest)))\n",
        "\n",
        "print(\"--- %s seconds ---\" % (time.time() - start_time))"
      ],
      "metadata": {
        "id": "8nVOo_0vaJzm",
        "colab": {
          "base_uri": "https://localhost:8080/"
        },
        "outputId": "e2f96837-4c46-4708-92fb-1aadff0cc94e"
      },
      "execution_count": null,
      "outputs": [
        {
          "output_type": "stream",
          "name": "stdout",
          "text": [
            "GridSearchCV-Decision tree - Metric 1\n",
            "{'criterion': 'gini', 'max_depth': 15, 'min_samples_leaf': 60}\n",
            "accuracy Score for Decision Tree:0.896596\n",
            "--- 21.510132789611816 seconds ---\n"
          ]
        }
      ]
    },
    {
      "cell_type": "code",
      "source": [
        "import time\n",
        "start_time = time.time()\n",
        "\n",
        "print(\"GridSearchCV-Decision tree - Metric 2\")\n",
        "grid_parameters1={'min_samples_leaf' : range(10,250,10),'max_depth':\n",
        "            range(5,15,2),'criterion':['gini','entropy']}\n",
        "dt_grid1 = GridSearchCV(dt,grid_parameters1)\n",
        "dt_grid1.fit(Xtrain, Ytrain)\n",
        "grid_parm1=dt_grid1.best_params_\n",
        "print(grid_parm1)\n",
        "print(\"accuracy Score for Decision Tree:{0:6f}\".\n",
        "      format(dt_grid1.score(Xtest,Ytest)))\n",
        "\n",
        "print(\"--- %s seconds ---\" % (time.time() - start_time))"
      ],
      "metadata": {
        "colab": {
          "base_uri": "https://localhost:8080/"
        },
        "id": "oj3U-zMRMqXu",
        "outputId": "d591c688-af34-4881-b7ed-206f3a6394b0"
      },
      "execution_count": null,
      "outputs": [
        {
          "output_type": "stream",
          "name": "stdout",
          "text": [
            "GridSearchCV-Decision tree - Metric 2\n",
            "{'criterion': 'entropy', 'max_depth': 5, 'min_samples_leaf': 30}\n",
            "accuracy Score for Decision Tree:0.896220\n",
            "--- 50.99293327331543 seconds ---\n"
          ]
        }
      ]
    },
    {
      "cell_type": "code",
      "source": [
        "start_time = time.time()\n",
        "\n",
        "print(\"GridSearchCV-Decision tree - Parameter 2\")\n",
        "grid_parameters2={'min_samples_leaf' : range(10,500,20),'max_depth':\n",
        "            range(10,20,2),'criterion':['gini','entropy']}\n",
        "dt_grid2 = GridSearchCV(dt,grid_parameters2)\n",
        "dt_grid2.fit(Xtrain, Ytrain)\n",
        "grid_parm2=dt_grid2.best_params_\n",
        "print(grid_parm2)\n",
        "print(\"accuracy Score for Decision Tree:{0:6f}\".\n",
        "      format(dt_grid2.score(Xtest,Ytest)))\n",
        "\n",
        "print(\"--- %s seconds ---\" % (time.time() - start_time))"
      ],
      "metadata": {
        "colab": {
          "base_uri": "https://localhost:8080/"
        },
        "id": "pkgu4D4dMqMN",
        "outputId": "1573958b-7a08-498c-ff9a-36bda986f7ea"
      },
      "execution_count": null,
      "outputs": [
        {
          "output_type": "stream",
          "name": "stdout",
          "text": [
            "GridSearchCV-Decision tree - Parameter 2\n",
            "{'criterion': 'gini', 'max_depth': 10, 'min_samples_leaf': 50}\n",
            "accuracy Score for Decision Tree:0.895026\n",
            "--- 36.94597339630127 seconds ---\n"
          ]
        }
      ]
    },
    {
      "cell_type": "code",
      "source": [
        "#Using the parameters obtained from HyperParameterTuning in the DecisionTreeClassifier\n",
        "dtRand = DecisionTreeClassifier(**grid_parm)\n",
        "dtGrid = DecisionTreeClassifier(**grid_parm1)\n",
        "\n",
        "dtRand.fit(Xtrain,Ytrain)\n",
        "dtRand_predict = dtRand.predict(Xtest)\n",
        "dtGrid.fit(Xtrain,Ytrain)\n",
        "dtGrid_predict = dtGrid.predict(Xtest)"
      ],
      "metadata": {
        "id": "oSQ6Fha8aJxS"
      },
      "execution_count": null,
      "outputs": []
    },
    {
      "cell_type": "code",
      "source": [
        "# Accuracy for Decision Tree using Random Search CV for Hyperparameter Tuning\n",
        "\n",
        "print(\"Test Accuracy:\", metrics.accuracy_score(Ytest,dtRand_predict))\n",
        "print(\"Confusion Matrix for Decision Tree:\")\n",
        "print(confusion_matrix(Ytest,dtRand_predict))\n",
        "print('Printing the precision and recall, among other metrics')\n",
        "print(metrics.classification_report(Ytest, dtRand_predict))\n",
        "clf_cv_score = cross_val_score(dtRand, Xtrain, Ytrain, cv=5, scoring=\"balanced_accuracy\")\n",
        "print(clf_cv_score)"
      ],
      "metadata": {
        "id": "fiZ0651DaJvL",
        "colab": {
          "base_uri": "https://localhost:8080/"
        },
        "outputId": "c649b4fa-fec2-44fc-89ea-40e74a88ad96"
      },
      "execution_count": null,
      "outputs": [
        {
          "output_type": "stream",
          "name": "stdout",
          "text": [
            "Test Accuracy: 0.896839264780695\n",
            "Confusion Matrix for Decision Tree:\n",
            "[[38656  1266]\n",
            " [ 3398  1891]]\n",
            "Printing the precision and recall, among other metrics\n",
            "              precision    recall  f1-score   support\n",
            "\n",
            "          no       0.92      0.97      0.94     39922\n",
            "         yes       0.60      0.36      0.45      5289\n",
            "\n",
            "    accuracy                           0.90     45211\n",
            "   macro avg       0.76      0.66      0.70     45211\n",
            "weighted avg       0.88      0.90      0.89     45211\n",
            "\n",
            "[0.64315476 0.62567308 0.64072115 0.64908654 0.65514423]\n"
          ]
        }
      ]
    },
    {
      "cell_type": "code",
      "source": [
        "# Accuracy for Decision Tree using Grid Search for Hyperparameter Tuning\n",
        "\n",
        "print(\"Test Accuracy:\", metrics.accuracy_score(Ytest,dtGrid_predict))\n",
        "print(\"Confusion Matrix for Decision Tree:\")\n",
        "print(confusion_matrix(Ytest,dtGrid_predict))\n",
        "print('Printing the precision and recall, among other metrics')"
      ],
      "metadata": {
        "id": "pNkvCSB9aJs0",
        "colab": {
          "base_uri": "https://localhost:8080/"
        },
        "outputId": "a29a989f-e16b-474d-a455-c2c6dfca9e93"
      },
      "execution_count": null,
      "outputs": [
        {
          "output_type": "stream",
          "name": "stdout",
          "text": [
            "Test Accuracy: 0.8962199464732035\n",
            "Confusion Matrix for Decision Tree:\n",
            "[[38959   963]\n",
            " [ 3729  1560]]\n",
            "Printing the precision and recall, among other metrics\n"
          ]
        }
      ]
    },
    {
      "cell_type": "code",
      "source": [
        "#Hyperparameter tuning done for random forest classifier\n",
        "\n",
        "#RANDOM SEARCH--------------------------------------------\n",
        "\n",
        "import time\n",
        "start_time = time.time()\n",
        "\n",
        "print(\"RandomizedSearchCV-Random forest\")\n",
        "rand_parameters={'min_samples_leaf' : range(10,100,10),'max_depth':\n",
        "            range(1,10,2),'max_features':[10,20,30],'n_estimators':[20,30,40]}\n",
        "rf_random = RandomizedSearchCV(rf,rand_parameters,n_iter=25,cv=5)\n",
        "rf_random.fit(Xtrain, Ytrain)\n",
        "grid_parm=rf_random.best_params_\n",
        "print(grid_parm)\n",
        "print(\"accuracy Score for Decision Tree:{0:6f}\".\n",
        "      format(rf_random.score(Xtest,Ytest)))\n",
        "\n",
        "print(\"--- %s seconds ---\" % (time.time() - start_time))"
      ],
      "metadata": {
        "id": "GGUmBzbUaJqc",
        "colab": {
          "base_uri": "https://localhost:8080/"
        },
        "outputId": "518d478c-5383-43d8-e6ab-a2d996a863d6"
      },
      "execution_count": null,
      "outputs": [
        {
          "output_type": "stream",
          "name": "stdout",
          "text": [
            "RandomizedSearchCV-Random forest\n",
            "{'n_estimators': 30, 'min_samples_leaf': 30, 'max_features': 30, 'max_depth': 5}\n",
            "accuracy Score for Decision Tree:0.900798\n",
            "--- 35.52417778968811 seconds ---\n"
          ]
        }
      ]
    },
    {
      "cell_type": "code",
      "source": [
        "# GRID SEARCH .............\n",
        "import time\n",
        "start_time = time.time()\n",
        "\n",
        "print(\"GridSearchCV-Random Forest\")\n",
        "rf_grid = GridSearchCV(rf,rand_parameters)\n",
        "rf_grid.fit(Xtrain, Ytrain)\n",
        "grid_parm1=rf_grid.best_params_\n",
        "print(grid_parm1)\n",
        "print(\"accuracy Score for Decision Tree:{0:6f}\".\n",
        "      format(rf_grid.score(Xtest,Ytest)))\n",
        "\n",
        "print(\"--- %s seconds ---\" % (time.time() - start_time))"
      ],
      "metadata": {
        "id": "nCWdH7eaaJnF",
        "colab": {
          "base_uri": "https://localhost:8080/"
        },
        "outputId": "a6b9545f-b27b-4089-b290-eeb728dbc49a"
      },
      "execution_count": null,
      "outputs": [
        {
          "output_type": "stream",
          "name": "stdout",
          "text": [
            "GridSearchCV-Random Forest\n",
            "{'max_depth': 9, 'max_features': 30, 'min_samples_leaf': 20, 'n_estimators': 20}\n",
            "accuracy Score for Decision Tree:0.900931\n",
            "--- 354.72748732566833 seconds ---\n"
          ]
        }
      ]
    },
    {
      "cell_type": "code",
      "source": [
        "#Using the parameters obtained from HyperParameterTuning in the RandomForestClassifier\n",
        "rfRand = RandomForestClassifier(**grid_parm)\n",
        "rfGrid = RandomForestClassifier(**grid_parm1)\n",
        "\n",
        "rfRand.fit(Xtrain,Ytrain)\n",
        "rfRand_predict = rfRand.predict(Xtest)\n",
        "rfGrid.fit(Xtrain,Ytrain)\n",
        "rfGrid_predict = rfGrid.predict(Xtest)"
      ],
      "metadata": {
        "id": "_yqJtKmGaJc7"
      },
      "execution_count": null,
      "outputs": []
    },
    {
      "cell_type": "code",
      "source": [
        "# Accuracy for Random Forest using Random Search CV for Hyperparameter Tuning\n",
        "\n",
        "print(\"Test Accuracy:\", metrics.accuracy_score(Ytest,rfRand_predict))\n",
        "print(\"Confusion Matrix for Decision Tree:\")\n",
        "print(confusion_matrix(Ytest,rfRand_predict))\n",
        "print('Printing the precision and recall, among other metrics')\n",
        "print(metrics.classification_report(Ytest, rfRand_predict))\n",
        "clf_cv_score = cross_val_score(rfRand, Xtrain, Ytrain, cv=5, scoring=\"balanced_accuracy\")\n",
        "print(clf_cv_score)"
      ],
      "metadata": {
        "id": "iH0pZTuAdYpM",
        "colab": {
          "base_uri": "https://localhost:8080/"
        },
        "outputId": "6a8fb7b5-1b74-47b9-d3ac-c90e313edeef"
      },
      "execution_count": null,
      "outputs": [
        {
          "output_type": "stream",
          "name": "stdout",
          "text": [
            "Test Accuracy: 0.8998031452522616\n",
            "Confusion Matrix for Decision Tree:\n",
            "[[38819  1103]\n",
            " [ 3427  1862]]\n",
            "Printing the precision and recall, among other metrics\n",
            "              precision    recall  f1-score   support\n",
            "\n",
            "          no       0.92      0.97      0.94     39922\n",
            "         yes       0.63      0.35      0.45      5289\n",
            "\n",
            "    accuracy                           0.90     45211\n",
            "   macro avg       0.77      0.66      0.70     45211\n",
            "weighted avg       0.88      0.90      0.89     45211\n",
            "\n",
            "[0.65705357 0.64302885 0.63235577 0.62105769 0.64677885]\n"
          ]
        }
      ]
    },
    {
      "cell_type": "code",
      "source": [
        "# Accuracy for Random Forest using Grid Search for Hyperparameter Tuning\n",
        "\n",
        "print(\"Test Accuracy:\", metrics.accuracy_score(Ytest,rfGrid_predict))\n",
        "print(\"Confusion Matrix for Decision Tree:\")\n",
        "print(confusion_matrix(Ytest,rfGrid_predict))\n",
        "print('Printing the precision and recall, among other metrics')\n",
        "print(metrics.classification_report(Ytest, rfGrid_predict))"
      ],
      "metadata": {
        "id": "wKPuW0-JdYhE",
        "colab": {
          "base_uri": "https://localhost:8080/"
        },
        "outputId": "7f7ddca8-4cb3-4d98-f498-808e6102cea7"
      },
      "execution_count": null,
      "outputs": [
        {
          "output_type": "stream",
          "name": "stdout",
          "text": [
            "Test Accuracy: 0.9004667005817169\n",
            "Confusion Matrix for Decision Tree:\n",
            "[[38877  1045]\n",
            " [ 3455  1834]]\n",
            "Printing the precision and recall, among other metrics\n",
            "              precision    recall  f1-score   support\n",
            "\n",
            "          no       0.92      0.97      0.95     39922\n",
            "         yes       0.64      0.35      0.45      5289\n",
            "\n",
            "    accuracy                           0.90     45211\n",
            "   macro avg       0.78      0.66      0.70     45211\n",
            "weighted avg       0.89      0.90      0.89     45211\n",
            "\n"
          ]
        }
      ]
    },
    {
      "cell_type": "code",
      "source": [],
      "metadata": {
        "id": "2nUM5XuMdYS2"
      },
      "execution_count": null,
      "outputs": []
    },
    {
      "cell_type": "code",
      "source": [],
      "metadata": {
        "id": "qhZjkMPWdX_g"
      },
      "execution_count": null,
      "outputs": []
    }
  ]
}